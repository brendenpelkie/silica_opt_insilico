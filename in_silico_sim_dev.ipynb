{
 "cells": [
  {
   "cell_type": "code",
   "execution_count": 148,
   "id": "ac3ff71f-cd2d-4cc1-804d-a97d5ee0535f",
   "metadata": {},
   "outputs": [
    {
     "name": "stdout",
     "output_type": "stream",
     "text": [
      "The autoreload extension is already loaded. To reload it, use:\n",
      "  %reload_ext autoreload\n"
     ]
    }
   ],
   "source": [
    "%load_ext autoreload\n",
    "%autoreload 2\n",
    "\n",
    "import sys\n",
    "sys.path.append('src/silica_opt_insilico/')\n",
    "from silica_opt_insilico import experiment, execute, data_processing\n",
    "from saxs_data_processing import target_comparison\n",
    "    \n",
    "import numpy as np\n",
    "import matplotlib.pyplot as plt\n",
    "\n",
    "import pickle\n",
    "import matplotlib.animation as animation\n",
    "from IPython.display import HTML"
   ]
  },
  {
   "cell_type": "markdown",
   "id": "943849a4-a957-42a2-93bc-ca5b3cbaa56f",
   "metadata": {},
   "source": [
    "## In silico optimization simulation"
   ]
  },
  {
   "cell_type": "markdown",
   "id": "4d65ee6a-49e0-454c-88b8-54148f7cc7b3",
   "metadata": {},
   "source": [
    "- objective functions work on volume fractions\n",
    "- BO works on bounds/0-1\n",
    "\n",
    "\n",
    "Ground truth:\n",
    "\n",
    "- Diameter 80nm at [0.007, 0.018, 0.04]\n",
    "- PDI min at [0.007, 0.025, 0.03]"
   ]
  },
  {
   "cell_type": "markdown",
   "id": "dfbc552b-76c9-4354-9234-962ddf7a7ae5",
   "metadata": {},
   "source": [
    "## Parameters \n",
    "\n",
    "### SAXS Data processing parameters"
   ]
  },
  {
   "cell_type": "markdown",
   "id": "5962eb95-d7cc-489a-b5c3-f22364ebbbc9",
   "metadata": {},
   "source": [
    "### Experiment 'execution' parameters"
   ]
  },
  {
   "cell_type": "code",
   "execution_count": 34,
   "id": "faf68845-397b-4a90-9fb2-9ffa918d5166",
   "metadata": {},
   "outputs": [],
   "source": [
    "# physical experiment bounds\n",
    "\n",
    "teos_min_vf = 0.005\n",
    "ammonia_min_vf = 0.005\n",
    "water_min_vf = 0.005\n",
    "\n",
    "teos_max_vf = 0.1\n",
    "ammonia_max_vf = 0.1\n",
    "water_max_vf = 0.15\n",
    "\n",
    "noise_frac = 0.5 # what fraction of experimental noise to use\n",
    "\n",
    "target_r_nm = 40 # particle size target\n",
    "\n",
    "budget = 100"
   ]
  },
  {
   "cell_type": "markdown",
   "id": "990c31d6-7af7-47fd-921f-3a28f0a5388f",
   "metadata": {},
   "source": [
    "### Campaign structure "
   ]
  },
  {
   "cell_type": "markdown",
   "id": "335ecd31-4a01-4ac2-bfa3-3e4b1bf6305c",
   "metadata": {},
   "source": [
    "### 2. Calculate scattering"
   ]
  },
  {
   "cell_type": "code",
   "execution_count": 3,
   "id": "5fbbb776-5732-45de-ad1c-870e86af497f",
   "metadata": {},
   "outputs": [],
   "source": [
    "# q range to consider up to and including spline fit step\n",
    "q_min_subtract = 0.002\n",
    "q_max_subtract = 0.035\n",
    "\n",
    "# q range to interpolate spline fit on and perform distance metric calculation with\n",
    "q_min_spl = 0.003\n",
    "q_max_spl = 0.03\n",
    "n_interpolate_gridpts = 1001 # number of grid points to interpolate q on."
   ]
  },
  {
   "cell_type": "code",
   "execution_count": 4,
   "id": "81643ac1-cf0d-4902-889e-1470d82345be",
   "metadata": {},
   "outputs": [],
   "source": [
    "\n",
    "target_r_angs = target_r_nm*10\n",
    "target_pdi = 0.1\n",
    "sld_silica = 8.575\n",
    "sld_etoh = 9.611"
   ]
  },
  {
   "cell_type": "code",
   "execution_count": 5,
   "id": "89cbd867-6906-4ba1-8615-f6e78815f1d3",
   "metadata": {},
   "outputs": [],
   "source": [
    "q_grid = np.linspace(np.log10(q_min_spl), np.log10(q_max_spl), n_interpolate_gridpts)\n",
    "\n",
    "q_grid_nonlog = 10**q_grid\n",
    "target_I = target_comparison.target_intensities(q_grid_nonlog, target_r_angs, target_pdi, sld_silica, sld_etoh)\n",
    "target_I = np.log10(target_I)"
   ]
  },
  {
   "cell_type": "code",
   "execution_count": 6,
   "id": "13d0d3cb-2f68-4f5f-ada6-6fd4cb17a35c",
   "metadata": {},
   "outputs": [
    {
     "data": {
      "image/png": "[encoded data removed]",
      "text/plain": [
       "<Figure size 640x480 with 1 Axes>"
      ]
     },
     "metadata": {},
     "output_type": "display_data"
    }
   ],
   "source": [
    "fig, ax = plt.subplots()\n",
    "ax.loglog(10**q_grid, 10**target_I)\n",
    "ax.set_xlabel('q [1/A]')\n",
    "\n",
    "plt.tight_layout()\n"
   ]
  },
  {
   "cell_type": "code",
   "execution_count": 7,
   "id": "8bb1fd66-85ac-4cda-962e-763b5cf38f29",
   "metadata": {},
   "outputs": [],
   "source": [
    "trials = {'default':{\n",
    "        'batch_size':5,\n",
    "        'amplitude_weight':0.1,\n",
    "        'm_samples':5,\n",
    "        'lower_bounds':[0.005, 0.005, 0.005], \n",
    "        'upper_bounds':[0.1, 0.1, 0.15], \n",
    "        'noise_level':0.5\n",
    "        },\n",
    "     'Batchsize_1':{\n",
    "        'batch_size':1,\n",
    "        'amplitude_weight':0.1,\n",
    "        'm_samples':5,\n",
    "        'lower_bounds':[0.005, 0.005, 0.005], \n",
    "        'upper_bounds':[0.1, 0.1, 0.15], \n",
    "        'noise_level':0.5\n",
    "        },\n",
    "     'Batchsize_10':{\n",
    "        'batch_size':10,\n",
    "        'amplitude_weight':0.1,\n",
    "        'm_samples':5,\n",
    "        'lower_bounds':[0.005, 0.005, 0.005], \n",
    "        'upper_bounds':[0.1, 0.1, 0.15], \n",
    "        'noise_level':0.5\n",
    "        },\n",
    "     'AmplitudeWeight_0':{\n",
    "        'batch_size':5,\n",
    "        'amplitude_weight':0,\n",
    "        'm_samples':5,\n",
    "        'lower_bounds':[0.005, 0.005, 0.005], \n",
    "        'upper_bounds':[0.1, 0.1, 0.15], \n",
    "        'noise_level':0.5\n",
    "        },\n",
    "     'AmplitudeWeight_0point5':{\n",
    "        'batch_size':5,\n",
    "        'amplitude_weight':0.5,\n",
    "        'm_samples':5,\n",
    "        'lower_bounds':[0.005, 0.005, 0.005], \n",
    "        'upper_bounds':[0.1, 0.1, 0.15], \n",
    "        'noise_level':0.5\n",
    "        },\n",
    "     'Bounds_restricted':{\n",
    "        'batch_size':5,\n",
    "        'amplitude_weight':0.1,\n",
    "        'm_samples':5,\n",
    "        'lower_bounds':[0.005, 0.005, 0.005], \n",
    "        'upper_bounds':[0.6, 0.6, 0.6], \n",
    "        'noise_level':0.5\n",
    "        },\n",
    "     'NoiseLevel_1':{\n",
    "        'batch_size':5,\n",
    "        'amplitude_weight':0.1,\n",
    "        'm_samples':5,\n",
    "        'lower_bounds':[0.005, 0.005, 0.005], \n",
    "        'upper_bounds':[0.1, 0.1, 0.15], \n",
    "        'noise_level':1\n",
    "        },\n",
    "    'SobolBaseline':{\n",
    "        'batch_size':0,\n",
    "        'amplitude_weight':0.1,\n",
    "        'm_samples':7,\n",
    "        'lower_bounds':[0.005, 0.005, 0.005], \n",
    "        'upper_bounds':[0.1, 0.1, 0.15], \n",
    "        'noise_level':0.5\n",
    "        },\n",
    "    }"
   ]
  },
  {
   "cell_type": "code",
   "execution_count": 8,
   "id": "05ff1389-048a-4b3c-88dd-d5f438358faf",
   "metadata": {},
   "outputs": [],
   "source": [
    "trials_2 = {'as_run_now':{\n",
    "        'batch_size':10,\n",
    "        'amplitude_weight':0.5,\n",
    "        'm_samples':5,\n",
    "        'lower_bounds':[0.005, 0.005, 0.005], \n",
    "        'upper_bounds':[0.1, 0.1, 0.15], \n",
    "        'noise_level':1\n",
    "        }\n",
    "           }"
   ]
  },
  {
   "cell_type": "code",
   "execution_count": 9,
   "id": "3ae5b778-ef5d-49c5-abab-9d57345e6ae7",
   "metadata": {},
   "outputs": [
    {
     "name": "stdout",
     "output_type": "stream",
     "text": [
      "Running optimization for trial as_run_now\n",
      "### Replicate 0 ###\n",
      "starting initial samples\n"
     ]
    },
    {
     "ename": "KeyboardInterrupt",
     "evalue": "",
     "output_type": "error",
     "traceback": [
      "\u001b[0;31m---------------------------------------------------------------------------\u001b[0m",
      "\u001b[0;31mKeyboardInterrupt\u001b[0m                         Traceback (most recent call last)",
      "Cell \u001b[0;32mIn[9], line 9\u001b[0m\n\u001b[1;32m      6\u001b[0m upper_bounds \u001b[38;5;241m=\u001b[39m params[\u001b[38;5;124m'\u001b[39m\u001b[38;5;124mupper_bounds\u001b[39m\u001b[38;5;124m'\u001b[39m]\n\u001b[1;32m      7\u001b[0m noise_level \u001b[38;5;241m=\u001b[39m params[\u001b[38;5;124m'\u001b[39m\u001b[38;5;124mnoise_level\u001b[39m\u001b[38;5;124m'\u001b[39m]\n\u001b[0;32m----> 9\u001b[0m execute\u001b[38;5;241m.\u001b[39mrun_grouped_trials(target_I, q_grid, batch_size, amplitude_weight, m_samples, lower_bounds, upper_bounds, trial_name, noise_level)\n",
      "File \u001b[0;32m~/Code/silica_opt_insilico/src/silica_opt_insilico/execute.py:65\u001b[0m, in \u001b[0;36mrun_grouped_trials\u001b[0;34m(target_I, q_grid, batch_size, amplitude_weight, m_samples, lower_bounds, upper_bounds, trial_name, noise_level, n_replicates, sobol_seed, NUM_RESTARTS, RAW_SAMPLES, nu, ard_num_dims)\u001b[0m\n\u001b[1;32m     61\u001b[0m initial_samples \u001b[38;5;241m=\u001b[39m init_sampling\u001b[38;5;241m.\u001b[39msobol_sample(m_samples, sobol_seed, lower_bounds, upper_bounds)\n\u001b[1;32m     63\u001b[0m \u001b[38;5;66;03m# 2. 'measure' sobol samples\u001b[39;00m\n\u001b[0;32m---> 65\u001b[0m batch_experiment(initial_samples, target_I, q_grid, amplitude_weight, noise_level)\n\u001b[1;32m     67\u001b[0m \u001b[38;5;66;03m# 3. start experiment loop:\u001b[39;00m\n\u001b[1;32m     68\u001b[0m data \u001b[38;5;241m=\u001b[39m initial_samples\n",
      "File \u001b[0;32m~/Code/silica_opt_insilico/src/silica_opt_insilico/execute.py:37\u001b[0m, in \u001b[0;36mbatch_experiment\u001b[0;34m(batch, target_I, q_grid, amplitude_weight, noise_level, n_jobs)\u001b[0m\n\u001b[1;32m     35\u001b[0m \u001b[38;5;28;01mdef\u001b[39;00m \u001b[38;5;21mbatch_experiment\u001b[39m(batch, target_I, q_grid, amplitude_weight, noise_level, n_jobs\u001b[38;5;241m=\u001b[39m\u001b[38;5;241m-\u001b[39m\u001b[38;5;241m1\u001b[39m):\n\u001b[1;32m     36\u001b[0m \u001b[38;5;250m    \u001b[39m\u001b[38;5;124;03m\"\"\" Runs experiments in parallel using joblib. \"\"\"\u001b[39;00m\n\u001b[0;32m---> 37\u001b[0m     results \u001b[38;5;241m=\u001b[39m Parallel(n_jobs\u001b[38;5;241m=\u001b[39mn_jobs)(\n\u001b[1;32m     38\u001b[0m         delayed(process_sample)(uuid_val, sample, target_I, q_grid, amplitude_weight, noise_level) \u001b[38;5;28;01mfor\u001b[39;00m uuid_val, sample \u001b[38;5;129;01min\u001b[39;00m batch\u001b[38;5;241m.\u001b[39mitems()\n\u001b[1;32m     39\u001b[0m     )\n\u001b[1;32m     41\u001b[0m     \u001b[38;5;66;03m# Update batch with results\u001b[39;00m\n\u001b[1;32m     42\u001b[0m     \u001b[38;5;28;01mfor\u001b[39;00m uuid_val, result \u001b[38;5;129;01min\u001b[39;00m results:\n",
      "File \u001b[0;32m~/miniconda3/envs/botorch/lib/python3.12/site-packages/joblib/parallel.py:2007\u001b[0m, in \u001b[0;36mParallel.__call__\u001b[0;34m(self, iterable)\u001b[0m\n\u001b[1;32m   2001\u001b[0m \u001b[38;5;66;03m# The first item from the output is blank, but it makes the interpreter\u001b[39;00m\n\u001b[1;32m   2002\u001b[0m \u001b[38;5;66;03m# progress until it enters the Try/Except block of the generator and\u001b[39;00m\n\u001b[1;32m   2003\u001b[0m \u001b[38;5;66;03m# reaches the first `yield` statement. This starts the asynchronous\u001b[39;00m\n\u001b[1;32m   2004\u001b[0m \u001b[38;5;66;03m# dispatch of the tasks to the workers.\u001b[39;00m\n\u001b[1;32m   2005\u001b[0m \u001b[38;5;28mnext\u001b[39m(output)\n\u001b[0;32m-> 2007\u001b[0m \u001b[38;5;28;01mreturn\u001b[39;00m output \u001b[38;5;28;01mif\u001b[39;00m \u001b[38;5;28mself\u001b[39m\u001b[38;5;241m.\u001b[39mreturn_generator \u001b[38;5;28;01melse\u001b[39;00m \u001b[38;5;28mlist\u001b[39m(output)\n",
      "File \u001b[0;32m~/miniconda3/envs/botorch/lib/python3.12/site-packages/joblib/parallel.py:1650\u001b[0m, in \u001b[0;36mParallel._get_outputs\u001b[0;34m(self, iterator, pre_dispatch)\u001b[0m\n\u001b[1;32m   1647\u001b[0m     \u001b[38;5;28;01myield\u001b[39;00m\n\u001b[1;32m   1649\u001b[0m     \u001b[38;5;28;01mwith\u001b[39;00m \u001b[38;5;28mself\u001b[39m\u001b[38;5;241m.\u001b[39m_backend\u001b[38;5;241m.\u001b[39mretrieval_context():\n\u001b[0;32m-> 1650\u001b[0m         \u001b[38;5;28;01myield from\u001b[39;00m \u001b[38;5;28mself\u001b[39m\u001b[38;5;241m.\u001b[39m_retrieve()\n\u001b[1;32m   1652\u001b[0m \u001b[38;5;28;01mexcept\u001b[39;00m \u001b[38;5;167;01mGeneratorExit\u001b[39;00m:\n\u001b[1;32m   1653\u001b[0m     \u001b[38;5;66;03m# The generator has been garbage collected before being fully\u001b[39;00m\n\u001b[1;32m   1654\u001b[0m     \u001b[38;5;66;03m# consumed. This aborts the remaining tasks if possible and warn\u001b[39;00m\n\u001b[1;32m   1655\u001b[0m     \u001b[38;5;66;03m# the user if necessary.\u001b[39;00m\n\u001b[1;32m   1656\u001b[0m     \u001b[38;5;28mself\u001b[39m\u001b[38;5;241m.\u001b[39m_exception \u001b[38;5;241m=\u001b[39m \u001b[38;5;28;01mTrue\u001b[39;00m\n",
      "File \u001b[0;32m~/miniconda3/envs/botorch/lib/python3.12/site-packages/joblib/parallel.py:1762\u001b[0m, in \u001b[0;36mParallel._retrieve\u001b[0;34m(self)\u001b[0m\n\u001b[1;32m   1757\u001b[0m \u001b[38;5;66;03m# If the next job is not ready for retrieval yet, we just wait for\u001b[39;00m\n\u001b[1;32m   1758\u001b[0m \u001b[38;5;66;03m# async callbacks to progress.\u001b[39;00m\n\u001b[1;32m   1759\u001b[0m \u001b[38;5;28;01mif\u001b[39;00m ((\u001b[38;5;28mlen\u001b[39m(\u001b[38;5;28mself\u001b[39m\u001b[38;5;241m.\u001b[39m_jobs) \u001b[38;5;241m==\u001b[39m \u001b[38;5;241m0\u001b[39m) \u001b[38;5;129;01mor\u001b[39;00m\n\u001b[1;32m   1760\u001b[0m     (\u001b[38;5;28mself\u001b[39m\u001b[38;5;241m.\u001b[39m_jobs[\u001b[38;5;241m0\u001b[39m]\u001b[38;5;241m.\u001b[39mget_status(\n\u001b[1;32m   1761\u001b[0m         timeout\u001b[38;5;241m=\u001b[39m\u001b[38;5;28mself\u001b[39m\u001b[38;5;241m.\u001b[39mtimeout) \u001b[38;5;241m==\u001b[39m TASK_PENDING)):\n\u001b[0;32m-> 1762\u001b[0m     time\u001b[38;5;241m.\u001b[39msleep(\u001b[38;5;241m0.01\u001b[39m)\n\u001b[1;32m   1763\u001b[0m     \u001b[38;5;28;01mcontinue\u001b[39;00m\n\u001b[1;32m   1765\u001b[0m \u001b[38;5;66;03m# We need to be careful: the job list can be filling up as\u001b[39;00m\n\u001b[1;32m   1766\u001b[0m \u001b[38;5;66;03m# we empty it and Python list are not thread-safe by\u001b[39;00m\n\u001b[1;32m   1767\u001b[0m \u001b[38;5;66;03m# default hence the use of the lock\u001b[39;00m\n",
      "\u001b[0;31mKeyboardInterrupt\u001b[0m: "
     ]
    }
   ],
   "source": [
    "for trial_name, params in trials_2.items():\n",
    "    batch_size = params['batch_size']\n",
    "    amplitude_weight = params['amplitude_weight']\n",
    "    m_samples = params['m_samples']\n",
    "    lower_bounds = params['lower_bounds']\n",
    "    upper_bounds = params['upper_bounds']\n",
    "    noise_level = params['noise_level']\n",
    "\n",
    "    execute.run_grouped_trials(target_I, q_grid, batch_size, amplitude_weight, m_samples, lower_bounds, upper_bounds, trial_name, noise_level, budget)"
   ]
  },
  {
   "cell_type": "markdown",
   "id": "22ac1e17-1958-4920-aede-65baab037bc7",
   "metadata": {},
   "source": [
    "## 8. Analyze \n",
    "\n",
    "#### 1. Convergence plot + metrics"
   ]
  },
  {
   "cell_type": "markdown",
   "id": "8b9b1f46-09c2-4c1e-94b5-8d7a586a9a4e",
   "metadata": {},
   "source": [
    "### 1. Find true minima for this objective function (do once per objective)"
   ]
  },
  {
   "cell_type": "code",
   "execution_count": 59,
   "id": "147e4e2c-afdf-437e-b914-5af597024f58",
   "metadata": {
    "scrolled": true
   },
   "outputs": [
    {
     "name": "stdout",
     "output_type": "stream",
     "text": [
      "(0.007, 0.018, 0.04)\n",
      "79.56593330170878\n",
      "ap dist  0.022845644583335312\n",
      "(0.007350000000000001, 0.018, 0.04)\n",
      "82.36453711846738\n",
      "ap dist  0.056664041858280244\n",
      "(0.007, 0.0189, 0.04)\n",
      "79.881445133695\n",
      "ap dist  0.016712331853096434\n",
      "(0.007, 0.018, 0.042)\n",
      "80.25425330170877\n",
      "ap dist  0.02691981814540467\n",
      "(0.00665, 0.018600000000000002, 0.041333333333333326)\n",
      "77.29293960420279\n",
      "ap dist  0.04592225017150885\n",
      "(0.006825, 0.01845, 0.040999999999999995)\n",
      "78.6155842566425\n",
      "ap dist  0.03184655488316808\n",
      "(0.007175, 0.01815, 0.04033333333333333)\n",
      "81.14958714770613\n",
      "ap dist  0.03903193275256327\n",
      "(0.0069125, 0.018375000000000002, 0.04083333333333333)\n",
      "79.26264310940752\n",
      "ap dist  0.021734622390723934\n",
      "(0.006941666666666666, 0.018850000000000002, 0.03855555555555556)\n",
      "78.88678644690562\n",
      "ap dist  0.026372664677488847\n",
      "(0.006956250000000001, 0.0186375, 0.03941666666666667)\n",
      "79.22900651233235\n",
      "ap dist  0.024978639547533356\n",
      "(0.006985416666666666, 0.0182125, 0.04113888888888889)\n",
      "79.91273889268221\n",
      "ap dist  0.025614221000324153\n",
      "(0.0069635416666666665, 0.01853125, 0.03984722222222223)\n",
      "79.40002787913738\n",
      "ap dist  0.02380473929084505\n",
      "(0.006978125, 0.01831875, 0.04070833333333333)\n",
      "79.74189393843221\n",
      "ap dist  0.024710974966952404\n",
      "(0.006967187499999999, 0.018478124999999998, 0.0400625)\n",
      "79.48551645366221\n",
      "ap dist  0.021960522781592426\n",
      "(0.006919791666666667, 0.019168750000000002, 0.04059722222222222)\n",
      "79.52021103422582\n",
      "ap dist  0.01976076097947011\n",
      "(0.006921006944444447, 0.019151041666666667, 0.04089120370370371)\n",
      "79.62524818244182\n",
      "ap dist  0.017715470670067974\n",
      "(0.006981365740740743, 0.019771527777777777, 0.04015895061728396)\n",
      "80.08905264215676\n",
      "ap dist  0.01802007719114805\n",
      "(0.0070151234567901255, 0.019379629629629625, 0.04010288065843622)\n",
      "80.20890394930944\n",
      "ap dist  0.021748124765938674\n",
      "(0.006943624614197532, 0.019221469907407408, 0.04047363683127572)\n",
      "79.69339184216891\n",
      "ap dist  0.017907575967238375\n",
      "(0.006928388631687243, 0.018410146604938275, 0.04075094307270233)\n",
      "79.37830101479395\n",
      "ap dist  0.02565239033985042\n",
      "(0.006968121463477368, 0.0194311824845679, 0.04030694873113855)\n",
      "79.9116154007277\n",
      "ap dist  0.01781800192618888\n",
      "(0.006982460991083678, 0.0191000128600823, 0.040325131458619115)\n",
      "79.91959919758104\n",
      "ap dist  0.025720202736349902\n",
      "(0.006953333708419069, 0.01919110564557613, 0.040436510488111574)\n",
      "79.75011063820337\n",
      "ap dist  0.019009612557481594\n",
      "(0.006960503472222223, 0.019025520833333334, 0.04044560185185185)\n",
      "79.75426736452107\n",
      "ap dist  0.01827955182831209\n",
      "(0.006984060731738684, 0.019165591242283953, 0.04015347436556928)\n",
      "79.89666727697622\n",
      "ap dist  0.020867991687537182\n",
      "(0.006971812307098766, 0.019060734953703702, 0.040236818415637865)\n",
      "79.78788278116085\n",
      "ap dist  0.016463351944225036\n",
      "(0.006970816454475309, 0.018825245949074067, 0.04030147247942387)\n",
      "79.71934446370571\n",
      "ap dist  0.025436268893106694\n",
      "(0.00698074966242284, 0.01908050491898148, 0.04019047389403292)\n",
      "79.85235213348834\n",
      "ap dist  0.016484032568674742\n",
      "(0.007007871174125515, 0.019001972415123452, 0.039839259687928674)\n",
      "79.92635341183043\n",
      "ap dist  0.0264326659311854\n",
      "(0.006972345397698046, 0.019019633728780863, 0.04029401631087105)\n",
      "79.79753649027134\n",
      "ap dist  0.01647464268987026\n",
      "(0.0069499382448131005, 0.019207249067644032, 0.04048087241369456)\n",
      "79.74302488547707\n",
      "ap dist  0.02372939360218361\n",
      "(0.006987484561203275, 0.01897681226691101, 0.040120218103423644)\n",
      "79.84711365609618\n",
      "ap dist  0.0165723629287605\n",
      "(0.006962453683609825, 0.019130436800733022, 0.040360654310270916)\n",
      "79.77790419458577\n",
      "ap dist  0.016466842356705876\n",
      "(0.006956991263181585, 0.019060032069830243, 0.04040385213048697)\n",
      "79.72305385530905\n",
      "ap dist  0.025830839435263653\n",
      "(0.006974810062612526, 0.01907538670669367, 0.04024381845314644)\n",
      "79.82009001619437\n",
      "ap dist  0.0163976720431085\n",
      "(0.006967038637849365, 0.019158071911972732, 0.040266844475165764)\n",
      "79.79307393344594\n",
      "ap dist  0.016366883771182596\n",
      "(0.006964385257925025, 0.019227291003568667, 0.040253258557313126)\n",
      "79.79083269977357\n",
      "ap dist  0.01623203898869288\n",
      "(0.00697821806814772, 0.01911183830857767, 0.040128609307127375)\n",
      "79.82124683715429\n",
      "ap dist  0.01636416547474112\n",
      "(0.006973129952024749, 0.019215609058856303, 0.040180305796086765)\n",
      "79.83360457538195\n",
      "ap dist  0.01623809292822034\n",
      "(0.006969012122785804, 0.019294438873974758, 0.04013096398720507)\n",
      "79.81039792188558\n",
      "ap dist  0.016088456193797798\n",
      "(0.006966113152872443, 0.019403964957615302, 0.04007453675423439)\n",
      "79.80554330375926\n",
      "ap dist  0.01603552250959225\n",
      "(0.006957534173733758, 0.01945273837144918, 0.04021012476462882)\n",
      "79.79863833226361\n",
      "ap dist  0.016034698372741546\n",
      "(0.006947192226526778, 0.019623188402884933, 0.04025088249337955)\n",
      "79.7871594544052\n",
      "ap dist  0.014076700689634833\n",
      "(0.006945330472858082, 0.019620687183856296, 0.040205479407197944)\n",
      "79.75528188576104\n",
      "ap dist  0.019370522033837313\n",
      "(0.006966180082233082, 0.0193168785901063, 0.04018659919886456)\n",
      "79.81410425682665\n",
      "ap dist  0.016055963373337666\n",
      "(0.006955271716496512, 0.01966873029683569, 0.040088087073672535)\n",
      "79.81378658875718\n",
      "ap dist  0.014012932434326997\n",
      "(0.006950714945782255, 0.019889449943469202, 0.04000550133185224)\n",
      "79.82525226616077\n",
      "ap dist  0.013850344374779378\n",
      "(0.006943166801221236, 0.019960856945873323, 0.04003401452077956)\n",
      "79.79781131154967\n",
      "ap dist  0.013741314777999692\n",
      "(0.006931660160715312, 0.02028284612375683, 0.03995772218173706)\n",
      "79.7894833843742\n",
      "ap dist  0.018687228292243292\n",
      "(0.006927936162814402, 0.02024503190386967, 0.04011906214310651)\n",
      "79.80090495694353\n",
      "ap dist  0.017302453283235424\n",
      "(0.0069565689053579325, 0.019614231694178894, 0.04008566810145242)\n",
      "79.80452268969469\n",
      "ap dist  0.014097686321687316\n",
      "(0.0069374804103289126, 0.020034765167306078, 0.04010793079588848)\n",
      "79.80220381051191\n",
      "ap dist  0.013665579663561498\n",
      "(0.0069279361628144034, 0.02024503190386967, 0.04011906214310651)\n",
      "79.80090495694353\n",
      "ap dist  0.017302453283235424\n",
      "(0.006940382545028158, 0.020300192968214135, 0.03984741527230064)\n",
      "79.82974562831406\n",
      "ap dist  0.016416707681176798\n",
      "(0.006945489806152123, 0.019792439544217236, 0.040150015688109816)\n",
      "79.79779608333472\n",
      "ap dist  0.013886446472227563\n",
      "(0.006942084965402813, 0.020130941826881833, 0.03994828207757037)\n",
      "79.8190891702775\n",
      "ap dist  0.01347862239787769\n",
      "(0.0069403825450281564, 0.02030019296821413, 0.03984741527230065)\n",
      "79.82974562831406\n",
      "ap dist  0.016416707681176798\n",
      "(0.006931106505519721, 0.02019492601657162, 0.0400546502643067)\n",
      "79.78738320933557\n",
      "ap dist  0.018751983144246788\n",
      "(0.006945812835716622, 0.019965818961744805, 0.04001778856496585)\n",
      "79.81582482751715\n",
      "ap dist  0.013663500156758924\n",
      "(0.006940418673077662, 0.020126827024748488, 0.04001531977150357)\n",
      "79.82694627987502\n",
      "ap dist  0.013750860789045517\n",
      "(0.006942479769185342, 0.020002349465592116, 0.04002934083346056)\n",
      "79.80509498959388\n",
      "ap dist  0.013678940544148688\n",
      "(0.006941105705113556, 0.020085334505029695, 0.04001999345882257)\n",
      "79.81966247384273\n",
      "ap dist  0.013519936067091948\n",
      "(0.006948521927159749, 0.020086631695131477, 0.03988277860501738)\n",
      "79.83414766385127\n",
      "ap dist  0.014252515646771657\n",
      "(0.006940240789536622, 0.020047731799262426, 0.040051642748170704)\n",
      "79.81020328904249\n",
      "ap dist  0.013603783218225198\n",
      "(0.006936474804318707, 0.020210186459037834, 0.039995490291409905)\n",
      "79.81679135238791\n",
      "ap dist  0.013404726365090856\n",
      "(0.006931805788619749, 0.020332370207684344, 0.039984341154631925)\n",
      "79.81724351335357\n",
      "ap dist  0.013534698015829173\n",
      "(0.006939536193686761, 0.02023657672803715, 0.039924201137031184)\n",
      "79.82683455469257\n",
      "ap dist  0.014287784830048604\n",
      "(0.006940064640574157, 0.020094943031456106, 0.04001978234538582)\n",
      "79.81435998684485\n",
      "ap dist  0.01354701385707333\n",
      "(0.006939712342649226, 0.02018936549584347, 0.03995606153981607)\n",
      "79.82267561963482\n",
      "ap dist  0.013670620989117772\n",
      "(0.006939976566092925, 0.02011854864755295, 0.04000385214399338)\n",
      "79.81643861538763\n",
      "ap dist  0.013534795983629378\n",
      "(0.006939800417130458, 0.020165759879746628, 0.03997199174120851)\n",
      "79.82059643177826\n",
      "ap dist  0.013458540124631196\n",
      "(0.006937801086121097, 0.020252590938747837, 0.039923849281303284)\n",
      "79.81799398410266\n",
      "ap dist  0.013475335556914448\n"
     ]
    }
   ],
   "source": [
    "#find true min\n",
    "init = [0.007, 0.018, 0.04]\n",
    "\n",
    "# Initial guess (x0, y0, z0)\n",
    "x0 = np.array([init[0], init[1], init[2]])\n",
    "\n",
    "# Perform minimization using Nelder-Mead method\n",
    "result = optimize.minimize(contour_eval, x0, method='Nelder-Mead')\n"
   ]
  },
  {
   "cell_type": "raw",
   "id": "97ea30df-42e1-4b61-b736-b139735a1159",
   "metadata": {},
   "source": [
    "ap dist opt output:\n",
    "\n",
    "message: Optimization terminated successfully.\n",
    "       success: True\n",
    "        status: 0\n",
    "           fun: 0.013404726365090856\n",
    "             x: [ 6.936e-03  2.021e-02  4.000e-02]\n",
    "           nit: 38\n",
    "          nfev: 72\n",
    " final_simplex: (array([[ 6.936e-03,  2.021e-02,  4.000e-02],\n",
    "                       [ 6.940e-03,  2.017e-02,  3.997e-02],\n",
    "                       [ 6.938e-03,  2.025e-02,  3.992e-02],\n",
    "                       [ 6.942e-03,  2.013e-02,  3.995e-02]]), array([ 1.340e-02,  1.346e-02,  1.348e-02,  1.348e-02]))"
   ]
  },
  {
   "cell_type": "code",
   "execution_count": 96,
   "id": "d441558d-9a0e-4165-9dd4-8c1bd707f216",
   "metadata": {},
   "outputs": [],
   "source": [
    "true_min = [6.936e-03, 2.021e-02, 4.000e-02] # for original 80nm objective"
   ]
  },
  {
   "cell_type": "code",
   "execution_count": 97,
   "id": "5aecf946-0355-4637-8400-d53e9001a670",
   "metadata": {},
   "outputs": [],
   "source": [
    "def composition_distance(measured_point, true_optima):\n",
    "    return np.sqrt(np.sum([(measured_point[i] - true_optima[i])**2 for i in range(len(measured_point))]))\n"
   ]
  },
  {
   "cell_type": "code",
   "execution_count": 101,
   "id": "53f19a45-5b49-465a-8e35-7007abb91559",
   "metadata": {},
   "outputs": [
    {
     "data": {
      "image/png": "[encoded data removed]",
      "text/plain": [
       "<Figure size 640x480 with 1 Axes>"
      ]
     },
     "metadata": {},
     "output_type": "display_data"
    },
    {
     "data": {
      "image/png": "[encoded data removed]",
      "text/plain": [
       "<Figure size 1200x400 with 3 Axes>"
      ]
     },
     "metadata": {},
     "output_type": "display_data"
    }
   ],
   "source": [
    "converge_threshold = 0.05\n",
    "\n",
    "for trial, params in trials_2.items():\n",
    "    \n",
    "    batch_size = params['batch_size']\n",
    "    amplitude_weight = params['amplitude_weight']\n",
    "    m_samples = params['m_samples']\n",
    "    lower_bounds = params['lower_bounds']\n",
    "    upper_bounds = params['upper_bounds']\n",
    "    noise_level = params['noise_level']\n",
    "\n",
    "        \n",
    "    if batch_size == 0:\n",
    "        n_batches = 0\n",
    "    else:\n",
    "        n_batches = int(np.ceil(100/batch_size))\n",
    "\n",
    "    data_complete = {}\n",
    "    best_distances_list = []\n",
    "    best_uuids_list = []\n",
    "    converge_iterations = []\n",
    "    best_composition_dist = []\n",
    "    for i in range(3):\n",
    "        with open(f'{trial}_replicate_{i}.pkl', 'rb') as f:\n",
    "            data = pickle.load(f)\n",
    "        \n",
    "        name_bounds = {}\n",
    "        name_bounds['random'] = (0, 2**m_samples)\n",
    "        for i in range(n_batches):\n",
    "            name_bounds[f'Batch {i+1}'] = ((i)*batch_size + 2**m_samples, (i+1)*batch_size + 2**m_samples)\n",
    "\n",
    "        best_distances_ap = []\n",
    "        best_uuid = []\n",
    "        converge_its = None\n",
    "        \n",
    "        for i, (uuid_val, sample) in enumerate(data.items()):\n",
    "            data_complete[uuid_val] = sample\n",
    "            dist = sample['ap_distance_reporting']\n",
    "            if len(best_distances_ap) == 0:\n",
    "                best_distances_ap.append(dist)\n",
    "                best_distances_ap.append(dist)\n",
    "                best_uuid.append(uuid_val)\n",
    "            else:\n",
    "                best_distances_ap.append(min(best_distances_ap[-1], dist))\n",
    "        \n",
    "            \n",
    "            if dist < best_distances_ap[-2]:\n",
    "                #print('new min found')\n",
    "                best_uuid.append(uuid_val)\n",
    "\n",
    "            if dist < converge_threshold:\n",
    "                converge_its = i\n",
    "                converge_iterations.append(i)\n",
    "        if converge_its is None:\n",
    "            converge_iterations.append('Not converged')\n",
    "            \n",
    "        best_distances_list.append(best_distances_ap)\n",
    "        best_uuids_list.append(best_uuid)\n",
    "\n",
    "        # get best composition distance\n",
    "        best_sample = data[best_uuid[-1]]\n",
    "        best_sample_comp = [best_sample['teos_vol_frac'], best_sample['ammonia_vol_frac'], best_sample['water_vol_frac']]\n",
    "        comp_dist = composition_distance(best_sample_comp, true_min)\n",
    "        best_composition_dist.append(comp_dist)\n",
    "        \n",
    "        \n",
    "\n",
    "    ## Convergence plot\n",
    "\n",
    "    fig, ax = plt.subplots()\n",
    "\n",
    "    for name, bounds in name_bounds.items():\n",
    "        ax.fill_between(bounds, 0, max(best_distances_ap), alpha = 0.2)\n",
    "    #    ax.text(np.mean(bounds), 0.1, name, rotation = 'vertical')\n",
    "\n",
    "    for best_distances_ap in best_distances_list:\n",
    "        ax.plot(best_distances_ap)\n",
    "    \n",
    "    \n",
    "    ax.set_xlabel('Sample number')\n",
    "    ax.set_ylabel('amplitude-phase distance')\n",
    "    ax.set_title(trial)\n",
    "    \n",
    "    plt.tight_layout()\n",
    "    #plt.savefig('Campaign_convergence_plot.png', dpi = 300)\n",
    "\n",
    "\n",
    "\n",
    "    # best scatterer plot\n",
    "    fig, ax = plt.subplots(1,3, figsize = (12,4))\n",
    "\n",
    "    for i, best_uuid in enumerate(best_uuids_list):\n",
    "\n",
    "        I = data_complete[best_uuid[-1]]['I_scaled']\n",
    "    \n",
    "        ax[i].loglog(q_grid_nonlog, I)\n",
    "        ax[i].loglog(q_grid_nonlog, target_I, ls ='--')\n",
    "\n",
    "    fig.suptitle(trial)\n",
    "\n",
    "\n",
    "\n",
    "\n",
    "\n",
    "    "
   ]
  },
  {
   "cell_type": "code",
   "execution_count": 102,
   "id": "31a69f9a-a4d9-4161-adc3-98ecbd3c35cd",
   "metadata": {},
   "outputs": [
    {
     "data": {
      "text/plain": [
       "['Not converged', 'Not converged', 44]"
      ]
     },
     "execution_count": 102,
     "metadata": {},
     "output_type": "execute_result"
    }
   ],
   "source": [
    "converge_iterations"
   ]
  },
  {
   "cell_type": "code",
   "execution_count": 104,
   "id": "8b4cb9d6-3d80-4ce5-b7f5-e5112044cdc6",
   "metadata": {},
   "outputs": [
    {
     "data": {
      "text/plain": [
       "[0.045938525, 0.11054069, 0.014212981]"
      ]
     },
     "execution_count": 104,
     "metadata": {},
     "output_type": "execute_result"
    }
   ],
   "source": [
    "best_composition_dist"
   ]
  },
  {
   "cell_type": "code",
   "execution_count": 11,
   "id": "c3715e75-526f-4214-87fc-23728b7fc2df",
   "metadata": {},
   "outputs": [],
   "source": [
    "with open('as_run_now_replicate_2.pkl', 'rb') as f:\n",
    "    data = pickle.load(f)"
   ]
  },
  {
   "cell_type": "code",
   "execution_count": 106,
   "id": "66b6162e-d51e-4318-b7a5-8ea02bd130bf",
   "metadata": {},
   "outputs": [
    {
     "data": {
      "text/plain": [
       "[['0a4be0a3-8378-4b39-b2a9-03c610a9c91e',\n",
       "  'e3edfb8a-5e48-404d-baf0-be32ecae1684',\n",
       "  'beb1cd31-c5cd-454b-b739-51e3a809f1e2',\n",
       "  'a33bed45-34f6-43eb-895f-a32249ca2ed5',\n",
       "  '5c2139a2-9a12-4da8-8abf-544d2dc01081',\n",
       "  '35a9cc88-6601-481d-8349-6908c1160bd8',\n",
       "  '830dea0b-65e5-4832-9a1c-c4037d29257b'],\n",
       " ['986b5b87-ae01-4e56-9745-3a5cd6eaa3df',\n",
       "  'e42ad6b2-bc58-4e1a-b0a4-bed021a72bd6',\n",
       "  'fb690d61-3ab7-4d1b-ae1e-ad4c448acec5',\n",
       "  '5c3ffc29-89a6-45b7-8d57-720382425696',\n",
       "  '386f1331-c994-45e4-8883-aedae946bbe6',\n",
       "  '5a72fc3b-55f1-44c3-9661-b54a8752b3b6'],\n",
       " ['34f724e9-9ee6-44a2-b0bf-99006ab5c140',\n",
       "  'f8ed80f1-131c-4fb9-a5fd-0359574332e9',\n",
       "  '8e8beb48-cbe2-4470-946c-f87a506ae98b',\n",
       "  '0e6d77d0-0fcf-41ed-95f5-875141bfcbba',\n",
       "  'f29a4b1a-d3ce-4137-9d9a-9c2875dc4e4d']]"
      ]
     },
     "execution_count": 106,
     "metadata": {},
     "output_type": "execute_result"
    }
   ],
   "source": [
    "best_uuids_list"
   ]
  },
  {
   "cell_type": "markdown",
   "id": "e18e3673-289d-48cb-ab6d-6f6c806fb381",
   "metadata": {},
   "source": [
    "####  Phase plots"
   ]
  },
  {
   "cell_type": "code",
   "execution_count": 12,
   "id": "f4139534-47a0-47ca-8242-9352deaaac18",
   "metadata": {},
   "outputs": [],
   "source": [
    "import matplotlib.cm as cm\n",
    "import matplotlib.colors as mcolors\n",
    "\n",
    "def get_colormap_color(value, vmin, vmax, cmap_name='viridis'):\n",
    "    \"\"\"\n",
    "    Maps a scalar value to an RGB color using a specified Matplotlib colormap.\n",
    "    \n",
    "    Parameters:\n",
    "        value (float): The scalar value to be mapped to a color.\n",
    "        vmin (float): The minimum bound of the scalar range.\n",
    "        vmax (float): The maximum bound of the scalar range.\n",
    "        cmap_name (str): The name of the Matplotlib colormap to use (default: 'viridis').\n",
    "    \n",
    "    Returns:\n",
    "        tuple: An (R, G, B) color tuple, where values are in the range [0, 1].\n",
    "    \"\"\"\n",
    "    norm = mcolors.Normalize(vmin=vmin, vmax=vmax)\n",
    "    cmap = cm.get_cmap(cmap_name)\n",
    "    return cmap(norm(value))[:3]  # Extract only RGB values (ignoring alpha if present)"
   ]
  },
  {
   "cell_type": "code",
   "execution_count": 13,
   "id": "0c1bc448-02e1-4009-b4ec-f9a5d437c9a4",
   "metadata": {},
   "outputs": [],
   "source": [
    "x_name = 'TEOS'\n",
    "y_name = 'water'\n",
    "y_2_name = 'ammonia'\n",
    "\n",
    "x_min = 0.005\n",
    "x_max = 0.1\n",
    "y_min = 0.005\n",
    "y_max = 0.15\n",
    "\n",
    "y_2_min = 0.005\n",
    "y_2_max = 0.1\n",
    "\n",
    "bounds = np.array([[x_min, y_min], [x_max, y_max]])\n",
    "bounds_2 = np.array([[x_min, y_2_min], [x_max, y_2_max]])"
   ]
  },
  {
   "cell_type": "code",
   "execution_count": 14,
   "id": "c14b7c07-cfe1-4dbf-9376-446815ebcc7a",
   "metadata": {},
   "outputs": [
    {
     "name": "stderr",
     "output_type": "stream",
     "text": [
      "/tmp/ipykernel_1551/294263709.py:18: MatplotlibDeprecationWarning: The get_cmap function was deprecated in Matplotlib 3.7 and will be removed in 3.11. Use ``matplotlib.colormaps[name]`` or ``matplotlib.colormaps.get_cmap()`` or ``pyplot.get_cmap()`` instead.\n",
      "  cmap = cm.get_cmap(cmap_name)\n"
     ]
    },
    {
     "ename": "NameError",
     "evalue": "name 'pd_utils' is not defined",
     "output_type": "error",
     "traceback": [
      "\u001b[0;31m---------------------------------------------------------------------------\u001b[0m",
      "\u001b[0;31mNameError\u001b[0m                                 Traceback (most recent call last)",
      "Cell \u001b[0;32mIn[14], line 36\u001b[0m\n\u001b[1;32m     30\u001b[0m     colors_2\u001b[38;5;241m.\u001b[39mappend(get_colormap_color(y_val, y_min, y_max))\n\u001b[1;32m     34\u001b[0m s \u001b[38;5;241m=\u001b[39m np\u001b[38;5;241m.\u001b[39marray(s)\n\u001b[0;32m---> 36\u001b[0m pd_utils\u001b[38;5;241m.\u001b[39mplot_phasemap(bounds, ax, c_1, s, colors \u001b[38;5;241m=\u001b[39m colors_1, scale_axis\u001b[38;5;241m=\u001b[39m\u001b[38;5;28;01mTrue\u001b[39;00m)\n\u001b[1;32m     37\u001b[0m \u001b[38;5;66;03m#pd_utils.plot_phasemap(bounds_2, ax[1], c_2, s, colors = colors_2)\u001b[39;00m\n\u001b[1;32m     40\u001b[0m ax\u001b[38;5;241m.\u001b[39mset_xlabel(\u001b[38;5;124m'\u001b[39m\u001b[38;5;124mTEOS volume fraction\u001b[39m\u001b[38;5;124m'\u001b[39m)\n",
      "\u001b[0;31mNameError\u001b[0m: name 'pd_utils' is not defined"
     ]
    },
    {
     "data": {
      "image/png": "[encoded data removed]",
      "text/plain": [
       "<Figure size 1200x1200 with 1 Axes>"
      ]
     },
     "metadata": {},
     "output_type": "display_data"
    }
   ],
   "source": [
    "x_key = 'teos_vol_frac'\n",
    "y_key = 'water_vol_frac'\n",
    "y_2_key = 'ammonia_vol_frac'\n",
    "\n",
    "\n",
    "fig, ax = plt.subplots(figsize = (12,12))\n",
    "\n",
    "c_1 = []\n",
    "s = []\n",
    "c_2 = []\n",
    "\n",
    "colors_1 = []\n",
    "colors_2 = []\n",
    "for uuid_val, sample in data.items():\n",
    "\n",
    "    x_val = sample[x_key]\n",
    "    y_val = sample[y_key]\n",
    "    y_2_val = sample[y_2_key]\n",
    "\n",
    "    \n",
    "    I = np.log10(sample['scattering_I'])\n",
    "    \n",
    "\n",
    "    q = q_grid\n",
    "\n",
    "    c_1.append([x_val, y_val])\n",
    "    s.append(I)\n",
    "    c_2.append([x_val, y_2_val])\n",
    "    colors_1.append(get_colormap_color(y_2_val, y_2_min, y_2_max))\n",
    "    colors_2.append(get_colormap_color(y_val, y_min, y_max))\n",
    "\n",
    "        \n",
    "\n",
    "s = np.array(s)\n",
    "\n",
    "pd_utils.plot_phasemap(bounds, ax, c_1, s, colors = colors_1, scale_axis=True)\n",
    "#pd_utils.plot_phasemap(bounds_2, ax[1], c_2, s, colors = colors_2)\n",
    "\n",
    "\n",
    "ax.set_xlabel('TEOS volume fraction')\n",
    "ax.set_ylabel('Water volume fraction')\n",
    "#ax[1].set_xlabel('TEOS volume fraction')\n",
    "#ax[1].set_ylabel('Ammonia volume fraction')\n",
    "\n",
    "cmap_name = 'viridis'\n",
    "norm = mcolors.Normalize(vmin=y_2_min, vmax=y_2_max)\n",
    "cmap = cm.get_cmap(cmap_name)\n",
    "\n",
    "cbar = fig.colorbar(cm.ScalarMappable(norm=norm, cmap=cmap), ax=ax)\n",
    "cbar.set_label(y_2_key)\n",
    "\n",
    "\n",
    "fig.suptitle('Round 2 Optimization Batch 3 - APdist')\n",
    "#plt.savefig('Phaseplot_apdist_batch3_80nm.png', dpi = 300)"
   ]
  },
  {
   "cell_type": "markdown",
   "id": "ba8268ca-777e-4a0d-ad0c-c4bd7567ee83",
   "metadata": {},
   "source": [
    "## Plot best scatterer"
   ]
  },
  {
   "cell_type": "code",
   "execution_count": 16,
   "id": "c2fae84a-81a2-4ef5-862d-f4b6473f4b79",
   "metadata": {},
   "outputs": [
    {
     "data": {
      "text/plain": [
       "[<matplotlib.lines.Line2D at 0x71c8d46b5640>]"
      ]
     },
     "execution_count": 16,
     "metadata": {},
     "output_type": "execute_result"
    },
    {
     "data": {
      "image/png": "[encoded data removed]",
      "text/plain": [
       "<Figure size 640x480 with 1 Axes>"
      ]
     },
     "metadata": {},
     "output_type": "display_data"
    }
   ],
   "source": [
    "I = data[best_uuid[-1]]['I_scaled']\n",
    "\n",
    "fig, ax = plt.subplots()\n",
    "\n",
    "ax.loglog(q_grid_nonlog, I)\n",
    "ax.loglog(q_grid_nonlog, target_I, ls ='--')"
   ]
  },
  {
   "cell_type": "code",
   "execution_count": 17,
   "id": "c1ad3d0d-52a6-4300-ab2c-e9f6b5ef89dc",
   "metadata": {},
   "outputs": [
    {
     "data": {
      "text/plain": [
       "['34f724e9-9ee6-44a2-b0bf-99006ab5c140',\n",
       " 'f8ed80f1-131c-4fb9-a5fd-0359574332e9',\n",
       " '8e8beb48-cbe2-4470-946c-f87a506ae98b',\n",
       " '0e6d77d0-0fcf-41ed-95f5-875141bfcbba',\n",
       " 'f29a4b1a-d3ce-4137-9d9a-9c2875dc4e4d']"
      ]
     },
     "execution_count": 17,
     "metadata": {},
     "output_type": "execute_result"
    }
   ],
   "source": [
    "best_uuid"
   ]
  },
  {
   "cell_type": "markdown",
   "id": "cc9c8900-0b47-4d69-8e9f-a621364e0154",
   "metadata": {},
   "source": [
    "## Contour trajectory plot"
   ]
  },
  {
   "cell_type": "code",
   "execution_count": 14,
   "id": "42982b33-63fd-4292-8422-3254d88ece7b",
   "metadata": {},
   "outputs": [],
   "source": [
    "def contour_eval(teos, ammonia, water, return_scatter = False):\n",
    "\n",
    "    #teos = sample[0]\n",
    "    #ammonia = sample[1]\n",
    "    #water = sample[2]\n",
    "\n",
    "    noise_level = 0\n",
    "    amplitude_weight = 0.1\n",
    "    sample_point = (teos, ammonia, water)\n",
    "    #print(sample_point)\n",
    "    scattering, real_sample_point, diameter, pdi = experiment.run_experiment(sample_point, noise_level, q_grid_nonlog, experiment.sld_silica, experiment.sld_etoh)\n",
    "    #print(diameter)\n",
    "    # Process measurement\n",
    "    ap_dist, ap_dist_report, I_scaled = data_processing.process_measurement(scattering, target_I, q_grid, amplitude_weight)\n",
    "\n",
    "    #print('ap dist ', ap_dist)\n",
    "    if return_scatter:\n",
    "        return ap_dist, scattering\n",
    "    else:\n",
    "        return ap_dist"
   ]
  },
  {
   "cell_type": "code",
   "execution_count": 15,
   "id": "643e07be-ec65-4859-8b2a-85d1a37d8c7d",
   "metadata": {},
   "outputs": [],
   "source": [
    "\n",
    "n_grid = 50"
   ]
  },
  {
   "cell_type": "markdown",
   "id": "a86670b6-0e8a-46f1-9b4d-e86ff92d2c52",
   "metadata": {},
   "source": [
    "### 2. Calculate contour grid values (once per objective)"
   ]
  },
  {
   "cell_type": "code",
   "execution_count": 12,
   "id": "686c8619-a889-46ab-942e-467ada52f322",
   "metadata": {},
   "outputs": [],
   "source": [
    "import time"
   ]
  },
  {
   "cell_type": "code",
   "execution_count": null,
   "id": "df6ca8c1-9b19-4b9e-85d7-e73dc58caa9f",
   "metadata": {
    "scrolled": true
   },
   "outputs": [],
   "source": [
    "## Build contour plot\n",
    "n_grid = 50\n",
    "# Define grid\n",
    "teos = np.linspace(teos_min_vf, teos_max_vf, n_grid)\n",
    "ammonia = np.linspace(ammonia_min_vf, ammonia_max_vf, n_grid)\n",
    "\n",
    "water = 4.000e-02 # set 3rd fixed value to optima\n",
    "Teos, Ammonia = np.meshgrid(teos, ammonia)\n",
    "t1 = time.time()\n",
    "# Compute contour values\n",
    "Z = np.vectorize(contour_eval)(Teos, Ammonia, water)\n",
    "\n",
    "\n",
    "with open('TEOS_ammonia_waterOptima_gridvals_80nm_ogfuncs_50.npy', 'wb') as f:\n",
    "    np.save(f, Z)\n",
    "print(f'finished grid in {time.time() - t1} s')"
   ]
  },
  {
   "cell_type": "code",
   "execution_count": null,
   "id": "e3ea4d03-27ba-4679-a4c0-9ee42433f1c0",
   "metadata": {
    "scrolled": true
   },
   "outputs": [],
   "source": [
    "## Build contour plot\n",
    "\n",
    "# Define grid\n",
    "teos = np.linspace(teos_min_vf, teos_max_vf, n_grid)\n",
    "water = np.linspace(water_min_vf, water_max_vf, n_grid)\n",
    "\n",
    "ammonia = 2.021e-02\n",
    "Teos, Water = np.meshgrid(teos, water)\n",
    "\n",
    "# Compute contour values\n",
    "Z = np.vectorize(contour_eval)(Teos, ammonia, Water)\n",
    "\n",
    "\n",
    "with open('TEOS_water_ammoniaOptima_gridvals_80nm_ogfuncs_50.npy', 'wb') as f:\n",
    "    np.save(f, Z)"
   ]
  },
  {
   "cell_type": "code",
   "execution_count": 10,
   "id": "acc77e76-2f03-4c7e-bb40-25de6cbf1c01",
   "metadata": {},
   "outputs": [],
   "source": [
    "with open('TEOS_water_ammoniaOptima_gridvals_80nm_ogfuncs_50.npy', 'rb') as f:\n",
    "    Z_ammonia = np.load(f)\n",
    "\n",
    "with open('TEOS_ammonia_waterOptima_gridvals_80nm_ogfuncs_50.npy', 'rb') as f:\n",
    "    Z_water = np.load(f)"
   ]
  },
  {
   "cell_type": "code",
   "execution_count": 11,
   "id": "a6a891b8-ec7c-47f3-9217-4e6edf811cc8",
   "metadata": {},
   "outputs": [],
   "source": [
    "trial = 'as_run_now'\n",
    "replicate = 2\n",
    "\n",
    "with open(f'{trial}_replicate_{replicate}.pkl', 'rb') as f:\n",
    "    data = pickle.load(f)"
   ]
  },
  {
   "cell_type": "code",
   "execution_count": 12,
   "id": "013235ca-5800-4884-85d1-4294a6cefe42",
   "metadata": {},
   "outputs": [
    {
     "name": "stdout",
     "output_type": "stream",
     "text": [
      "initializing current best\n",
      "updating sobol best\n",
      "41\n",
      "51\n",
      "61\n",
      "71\n",
      "81\n",
      "91\n",
      "101\n",
      "111\n",
      "121\n",
      "131\n"
     ]
    }
   ],
   "source": [
    "# get best points \n",
    "i = 0\n",
    "\n",
    "n_sobol = 2**m_samples\n",
    "batch_size = 10\n",
    "\n",
    "best_per_batch = {}\n",
    "\n",
    "\n",
    "for uuid_val, data_val in data.items():\n",
    "    data_val['uuid'] = uuid_val\n",
    "    if i == 0:\n",
    "        print('initializing current best')\n",
    "        current_best = data_val\n",
    "\n",
    "    if current_best is None:\n",
    "        current_best = data_val\n",
    "\n",
    "    current_best_ap = current_best['ap_distance']\n",
    "    new_ap = data_val['ap_distance']\n",
    "    if new_ap < current_best_ap:\n",
    "        current_best = data_val\n",
    "        \n",
    "    if i == n_sobol -1:\n",
    "        print('updating sobol best')\n",
    "        best_per_batch['sobol'] = current_best\n",
    "        current_best = None\n",
    "\n",
    "    if (i- (n_sobol - 1)) % batch_size == 0 and i > n_sobol - 1:\n",
    "        print(i)\n",
    "        best_per_batch[f'{(i - (n_sobol - 1))/batch_size}'] = current_best\n",
    "        current_best = None\n",
    "\n",
    "\n",
    "    i += 1\n",
    "\n",
    "\n",
    "\n",
    "\n",
    "best_compositions = np.zeros((len(best_per_batch), 3))\n",
    "\n",
    "for i, (batch, best) in enumerate(best_per_batch.items()):\n",
    "    comp = [best['teos_vol_frac'], best['ammonia_vol_frac'], best['water_vol_frac']]\n",
    "    best_compositions[i,:] = comp\n",
    "    \n"
   ]
  },
  {
   "cell_type": "code",
   "execution_count": null,
   "id": "9f6a3a83-138f-4fd7-a3ab-2296f757c2c0",
   "metadata": {},
   "outputs": [],
   "source": []
  },
  {
   "cell_type": "code",
   "execution_count": 107,
   "id": "d495b92d-679e-4321-ad81-e4009f903ebb",
   "metadata": {},
   "outputs": [
    {
     "data": {
      "text/plain": [
       "['34f724e9-9ee6-44a2-b0bf-99006ab5c140',\n",
       " 'f8ed80f1-131c-4fb9-a5fd-0359574332e9',\n",
       " '8e8beb48-cbe2-4470-946c-f87a506ae98b',\n",
       " '0e6d77d0-0fcf-41ed-95f5-875141bfcbba',\n",
       " 'f29a4b1a-d3ce-4137-9d9a-9c2875dc4e4d']"
      ]
     },
     "execution_count": 107,
     "metadata": {},
     "output_type": "execute_result"
    }
   ],
   "source": [
    "best_uuid"
   ]
  },
  {
   "cell_type": "code",
   "execution_count": 126,
   "id": "38a07148-198a-4564-be8b-47195ae44a84",
   "metadata": {},
   "outputs": [],
   "source": [
    "def get_batch(i, n_sobol, batch_size):\n",
    "    if i < n_sobol:\n",
    "        return 0\n",
    "    else:\n",
    "        return int(np.ceil((i - n_sobol + 1)/batch_size))"
   ]
  },
  {
   "cell_type": "code",
   "execution_count": 129,
   "id": "0d450d5d-bcda-406b-a977-835824cc8287",
   "metadata": {},
   "outputs": [
    {
     "data": {
      "text/plain": [
       "2"
      ]
     },
     "execution_count": 129,
     "metadata": {},
     "output_type": "execute_result"
    }
   ],
   "source": [
    "get_batch(42, 32, 10)"
   ]
  },
  {
   "cell_type": "code",
   "execution_count": 130,
   "id": "ac098b08-b976-44c9-8edc-2672520ef7d8",
   "metadata": {},
   "outputs": [],
   "source": [
    "best_points = {}\n",
    "\n",
    "for i, (uuid_val, data_val) in enumerate(data.items()):\n",
    "    if uuid_val in best_uuid:\n",
    "        # get batch num:\n",
    "        batch_num = get_batch(i, n_sobol, batch_size)\n",
    "        point = [data_val['teos_vol_frac'], data_val['ammonia_vol_frac'], data_val['water_vol_frac']]\n",
    "        best_points[batch_num] = point"
   ]
  },
  {
   "cell_type": "code",
   "execution_count": 131,
   "id": "0ecfa06d-b59f-49a0-9c5f-ce560c07181d",
   "metadata": {},
   "outputs": [
    {
     "data": {
      "text/plain": [
       "{0: [0.01800232021138072, 0.027677500625140967, 0.00961521505843848],\n",
       " 1: [tensor(0.0133), tensor(0.0118), tensor(0.0934)],\n",
       " 2: [tensor(0.0150), tensor(0.0276), tensor(0.0491)]}"
      ]
     },
     "execution_count": 131,
     "metadata": {},
     "output_type": "execute_result"
    }
   ],
   "source": [
    "best_points"
   ]
  },
  {
   "cell_type": "markdown",
   "id": "a0b58019-5c2b-4eee-a243-d49ce291a384",
   "metadata": {},
   "source": [
    "## Animate each point"
   ]
  },
  {
   "cell_type": "code",
   "execution_count": 132,
   "id": "01fd9120-3a0a-48f4-bc2c-6354f6e0651c",
   "metadata": {},
   "outputs": [],
   "source": [
    "## Get batches\n",
    "\n",
    "i = 0\n",
    "\n",
    "n_sobol = 2**m_samples\n",
    "\n",
    "\n",
    "batches_points = []\n",
    "\n",
    "batch = []\n",
    "for uuid_val, data_val in data.items():\n",
    "    point = [data_val['teos_vol_frac'], data_val['ammonia_vol_frac'], data_val['water_vol_frac']]\n",
    "    batch.append(point)\n",
    "        \n",
    "    if i == n_sobol -1:\n",
    "        batches_points.append(batch)\n",
    "        batch = []\n",
    "\n",
    "    if (i- (n_sobol - 1)) % batch_size == 0 and i > n_sobol - 1:\n",
    "        batches_points.append(batch)\n",
    "        batch = []\n",
    "\n",
    "\n",
    "    i += 1"
   ]
  },
  {
   "cell_type": "code",
   "execution_count": 133,
   "id": "9749a357-8302-449a-9ba4-3ef1eaf37ca2",
   "metadata": {},
   "outputs": [],
   "source": [
    "n_batches = int(budget/batch_size)\n",
    "\n",
    "batch_nums = [str(i+1) for i in range(n_batches)]\n",
    "batch_names = ['Sobol random']\n",
    "\n",
    "batch_names.extend(batch_nums)"
   ]
  },
  {
   "cell_type": "code",
   "execution_count": 147,
   "id": "6e54a5f9-00c1-4f2a-ad17-1f15184e7c34",
   "metadata": {},
   "outputs": [
    {
     "data": {
      "image/png": "[encoded data removed]",
      "text/plain": [
       "<Figure size 1300x600 with 4 Axes>"
      ]
     },
     "metadata": {},
     "output_type": "display_data"
    }
   ],
   "source": [
    "# Create filled contour plot\n",
    "\n",
    "fig, ax = plt.subplots(1, 2, figsize = (13,6))\n",
    "#fig, ax = plt.subplots()\n",
    "num_frames = n_batches + 1\n",
    "\n",
    "ammonia = np.linspace(ammonia_min_vf, ammonia_max_vf, n_grid)\n",
    "water = np.linspace(water_min_vf, water_max_vf, n_grid)\n",
    "teos = np.linspace(teos_min_vf, teos_max_vf, n_grid)\n",
    "\n",
    "contour1 = ax[0].contourf(teos, water, Z_ammonia, levels=20, cmap='viridis')\n",
    "fig.colorbar(contour1, ax = ax[0], label='AP_distance')\n",
    "ax[0].set_xlabel('TEOS')\n",
    "ax[0].set_ylabel('Water')\n",
    "ax[0].set_title('TEOS-Water')\n",
    "\n",
    "contour2 = ax[1].contourf(teos, ammonia, Z_water, levels=20, cmap='viridis')\n",
    "fig.colorbar(contour2, ax = ax[1], label='AP_distance')\n",
    "ax[1].set_xlabel('TEOS')\n",
    "ax[1].set_ylabel('Ammonia')\n",
    "ax[1].set_title('TEOS-Ammonia')\n",
    "\n",
    "ax[0].scatter(true_min[0], true_min[2], marker = '*', color = 'pink')\n",
    "ax[1].scatter(true_min[0], true_min[1], marker = '*', color = 'pink')\n",
    "\n",
    "fig.suptitle(trial_name)\n",
    "\n",
    "def get_alpha(i, frame):\n",
    "    if frame - i >= 5:\n",
    "        return 0.1\n",
    "    if frame - i - 1 == 0:\n",
    "        return 1\n",
    "    else:\n",
    "        return 0.2*(frame - i)\n",
    "\n",
    "text = ax[0].text(0.06, 0.135, '')\n",
    "\n",
    "scatter_plots = []\n",
    "\n",
    "\n",
    "def update(frame):\n",
    "    \"\"\"Update function for animation.\"\"\"\n",
    "\n",
    "    global scatter_plots\n",
    "\n",
    "    for sc in scatter_plots:\n",
    "        try:\n",
    "            sc.remove()\n",
    "        except:\n",
    "            continue\n",
    "    \n",
    "    for i in range(frame+1):\n",
    "        text.set_text('Batch ' + batch_names[i])\n",
    "        alpha = get_alpha(i, frame)\n",
    "        current_batch = batches_points[i]\n",
    "        if frame - i - 1 == 0:\n",
    "            color = 'red'\n",
    "        else:\n",
    "            color = 'k'\n",
    "        for point in current_batch:\n",
    "            sc1 = ax[0].scatter(point[0], point[2], color = color, alpha = alpha)\n",
    "            sc2 = ax[1].scatter(point[0], point[1], color = color, alpha = alpha)\n",
    "\n",
    "            scatter_plots.append(sc1)\n",
    "            scatter_plots.append(sc2)\n",
    "\n",
    "        try:\n",
    "            bp = best_points[i]\n",
    "            ax[0].scatter(bp[0], bp[2], color = 'cyan', marker = '*', s = 100)\n",
    "            ax[1].scatter(bp[0], bp[1], color = 'cyan', marker = '*', s = 100)\n",
    "        except:\n",
    "            continue\n",
    "        \n",
    "\n",
    "    return scatter_plots + [text]\n",
    "\n",
    "\n",
    "ani = animation.FuncAnimation(fig, update, frames=num_frames, interval=800, blit=False)\n",
    "#plt.show()\n",
    "\n",
    "html_ani = ani.to_jshtml()\n",
    "HTML(html_ani)\n",
    "\n",
    "with open('testhtml.html', 'wt') as f:\n",
    "    f.write(html_ani)"
   ]
  }
 ],
 "metadata": {
  "kernelspec": {
   "display_name": "Python 3 (ipykernel)",
   "language": "python",
   "name": "python3"
  },
  "language_info": {
   "codemirror_mode": {
    "name": "ipython",
    "version": 3
   },
   "file_extension": ".py",
   "mimetype": "text/x-python",
   "name": "python",
   "nbconvert_exporter": "python",
   "pygments_lexer": "ipython3",
   "version": "3.12.8"
  }
 },
 "nbformat": 4,
 "nbformat_minor": 5
}
