{
 "cells": [
  {
   "cell_type": "code",
   "execution_count": 2,
   "id": "ac3ff71f-cd2d-4cc1-804d-a97d5ee0535f",
   "metadata": {},
   "outputs": [
    {
     "name": "stdout",
     "output_type": "stream",
     "text": [
      "The autoreload extension is already loaded. To reload it, use:\n",
      "  %reload_ext autoreload\n"
     ]
    }
   ],
   "source": [
    "%load_ext autoreload\n",
    "%autoreload 2\n",
    "\n",
    "import sys\n",
    "sys.path.append('../src/silica_opt_insilico/')\n",
    "from silica_opt_insilico import experiment, execute, data_processing, post_process, contour_animated\n",
    "from saxs_data_processing import target_comparison\n",
    "    \n",
    "import numpy as np\n",
    "import matplotlib.pyplot as plt\n",
    "\n",
    "import pickle\n",
    "import matplotlib.animation as animation\n",
    "from IPython.display import HTML"
   ]
  },
  {
   "cell_type": "markdown",
   "id": "943849a4-a957-42a2-93bc-ca5b3cbaa56f",
   "metadata": {},
   "source": [
    "## In silico optimization simulation"
   ]
  },
  {
   "cell_type": "markdown",
   "id": "4d65ee6a-49e0-454c-88b8-54148f7cc7b3",
   "metadata": {},
   "source": [
    "- objective functions work on volume fractions\n",
    "- BO works on bounds/0-1\n",
    "\n",
    "\n",
    "Ground truth:\n",
    "\n",
    "- Diameter 80nm at [0.007, 0.018, 0.04]\n",
    "- PDI min at [0.007, 0.025, 0.03]"
   ]
  },
  {
   "cell_type": "markdown",
   "id": "dfbc552b-76c9-4354-9234-962ddf7a7ae5",
   "metadata": {},
   "source": [
    "## Parameters \n",
    "\n",
    "### SAXS Data processing parameters"
   ]
  },
  {
   "cell_type": "markdown",
   "id": "5962eb95-d7cc-489a-b5c3-f22364ebbbc9",
   "metadata": {},
   "source": [
    "### Experiment 'execution' parameters"
   ]
  },
  {
   "cell_type": "code",
   "execution_count": 3,
   "id": "faf68845-397b-4a90-9fb2-9ffa918d5166",
   "metadata": {},
   "outputs": [],
   "source": [
    "# physical experiment bounds\n",
    "\n",
    "teos_min_vf = 0.005\n",
    "ammonia_min_vf = 0.005\n",
    "water_min_vf = 0.005\n",
    "\n",
    "teos_max_vf = 0.1\n",
    "ammonia_max_vf = 0.1\n",
    "water_max_vf = 0.15\n",
    "\n",
    "noise_frac = 0.5 # what fraction of experimental noise to use\n",
    "\n",
    "target_r_nm = 40 # particle size target\n",
    "\n",
    "budget = 100"
   ]
  },
  {
   "cell_type": "markdown",
   "id": "990c31d6-7af7-47fd-921f-3a28f0a5388f",
   "metadata": {},
   "source": [
    "### Campaign structure "
   ]
  },
  {
   "cell_type": "markdown",
   "id": "335ecd31-4a01-4ac2-bfa3-3e4b1bf6305c",
   "metadata": {},
   "source": [
    "### 2. Calculate scattering"
   ]
  },
  {
   "cell_type": "code",
   "execution_count": 4,
   "id": "5fbbb776-5732-45de-ad1c-870e86af497f",
   "metadata": {},
   "outputs": [],
   "source": [
    "# q range to consider up to and including spline fit step\n",
    "q_min_subtract = 0.002\n",
    "q_max_subtract = 0.035\n",
    "\n",
    "# q range to interpolate spline fit on and perform distance metric calculation with\n",
    "q_min_spl = 0.003\n",
    "q_max_spl = 0.03\n",
    "n_interpolate_gridpts = 1001 # number of grid points to interpolate q on."
   ]
  },
  {
   "cell_type": "code",
   "execution_count": 5,
   "id": "81643ac1-cf0d-4902-889e-1470d82345be",
   "metadata": {},
   "outputs": [],
   "source": [
    "\n",
    "target_r_angs = target_r_nm*10\n",
    "target_pdi = 0.1\n",
    "sld_silica = 8.575\n",
    "sld_etoh = 9.611"
   ]
  },
  {
   "cell_type": "code",
   "execution_count": 6,
   "id": "89cbd867-6906-4ba1-8615-f6e78815f1d3",
   "metadata": {},
   "outputs": [],
   "source": [
    "q_grid = np.linspace(np.log10(q_min_spl), np.log10(q_max_spl), n_interpolate_gridpts)\n",
    "\n",
    "q_grid_nonlog = 10**q_grid\n",
    "target_I = target_comparison.target_intensities(q_grid_nonlog, target_r_angs, target_pdi, sld_silica, sld_etoh)\n",
    "target_I = np.log10(target_I)"
   ]
  },
  {
   "cell_type": "code",
   "execution_count": 7,
   "id": "13d0d3cb-2f68-4f5f-ada6-6fd4cb17a35c",
   "metadata": {},
   "outputs": [
    {
     "data": {
      "image/png": "[encoded data removed]",
      "text/plain": [
       "<Figure size 640x480 with 1 Axes>"
      ]
     },
     "metadata": {},
     "output_type": "display_data"
    }
   ],
   "source": [
    "fig, ax = plt.subplots()\n",
    "ax.loglog(10**q_grid, 10**target_I)\n",
    "ax.set_xlabel('q [1/A]')\n",
    "\n",
    "plt.tight_layout()\n"
   ]
  },
  {
   "cell_type": "code",
   "execution_count": 21,
   "id": "8bb1fd66-85ac-4cda-962e-763b5cf38f29",
   "metadata": {},
   "outputs": [],
   "source": [
    "trials = {'baseline':{\n",
    "        'batch_size':5,\n",
    "        'amplitude_weight':0.1,\n",
    "        'm_samples':5,\n",
    "        'lower_bounds':[0.005, 0.005, 0.005], \n",
    "        'upper_bounds':[0.1, 0.1, 0.15], \n",
    "        'noise_level':0.05,\n",
    "        'characterization':'SAXS',\n",
    "        'distance':'apdist'\n",
    "        },\n",
    "     'noise_1':{\n",
    "        'batch_size':5,\n",
    "        'amplitude_weight':0.1,\n",
    "        'm_samples':5,\n",
    "        'lower_bounds':[0.005, 0.005, 0.005], \n",
    "        'upper_bounds':[0.1, 0.1, 0.15], \n",
    "        'noise_level':1,\n",
    "        'characterization':'SAXS',\n",
    "        'distance':'apdist'\n",
    "        },\n",
    "     'as_run_now':{\n",
    "        'batch_size':10,\n",
    "        'amplitude_weight':0.5,\n",
    "        'm_samples':5,\n",
    "        'lower_bounds':[0.005, 0.005, 0.005], \n",
    "        'upper_bounds':[0.1, 0.1, 0.15], \n",
    "        'noise_level':1,\n",
    "        'characterization':'SAXS',\n",
    "        'distance':'apdist'\n",
    "        },\n",
    "     'DLS':{\n",
    "        'batch_size':5,\n",
    "        'amplitude_weight':0.1,\n",
    "        'm_samples':5,\n",
    "        'lower_bounds':[0.005, 0.005, 0.005], \n",
    "        'upper_bounds':[0.1, 0.1, 0.15], \n",
    "        'noise_level':0.05,\n",
    "        'characterization':'DLS',\n",
    "        'pdi_weight':0.5,\n",
    "        'distance':'apdist'\n",
    "        },\n",
    "     'rmse':{\n",
    "        'batch_size':5,\n",
    "        'amplitude_weight':0.1,\n",
    "        'm_samples':5,\n",
    "        'lower_bounds':[0.005, 0.005, 0.005], \n",
    "        'upper_bounds':[0.1, 0.1, 0.15], \n",
    "        'noise_level':0.05,\n",
    "        'characterization':'SAXS',\n",
    "        'distance':'rmse'\n",
    "        },\n",
    "     'batch_size_10':{\n",
    "        'batch_size':10,\n",
    "        'amplitude_weight':0.1,\n",
    "        'm_samples':5,\n",
    "        'lower_bounds':[0.005, 0.005, 0.005], \n",
    "        'upper_bounds':[0.1, 0.1, 0.15], \n",
    "        'noise_level':0.05,\n",
    "        'characterization':'SAXS',\n",
    "        'distance':'apdist'\n",
    "        },\n",
    "     'restricted_bounds':{\n",
    "        'batch_size':5,\n",
    "        'amplitude_weight':0.1,\n",
    "        'm_samples':5,\n",
    "        'lower_bounds':[0.005, 0.005, 0.005], \n",
    "        'upper_bounds':[0.06, 0.08, 0.08], \n",
    "        'noise_level':0.05,\n",
    "        'characterization':'SAXS',\n",
    "        'distance':'apdist'\n",
    "        },\n",
    "    'SobolBaseline':{\n",
    "        'batch_size':5,\n",
    "        'amplitude_weight':0.1,\n",
    "        'm_samples':5,\n",
    "        'lower_bounds':[0.005, 0.005, 0.005], \n",
    "        'upper_bounds':[0.1, 0.1, 0.15], \n",
    "        'noise_level':0.05,\n",
    "        'characterization':'SAXS',\n",
    "        'distance':'apdist'\n",
    "        },\n",
    "    }"
   ]
  },
  {
   "cell_type": "code",
   "execution_count": 30,
   "id": "05ff1389-048a-4b3c-88dd-d5f438358faf",
   "metadata": {},
   "outputs": [],
   "source": [
    "trials_3 = {'DLS_pdipoint1':{\n",
    "        'batch_size':5,\n",
    "        'amplitude_weight':0.1,\n",
    "        'm_samples':5,\n",
    "        'lower_bounds':[0.005, 0.005, 0.005], \n",
    "        'upper_bounds':[0.1, 0.1, 0.15], \n",
    "        'noise_level':0.05,\n",
    "        'characterization':'DLS',\n",
    "        'pdi_weight':0.1,\n",
    "        'distance':'apdist'\n",
    "        },\n",
    "}\n"
   ]
  },
  {
   "cell_type": "code",
   "execution_count": 34,
   "id": "5b62b316-10b5-449c-b0a0-0d93daf69cea",
   "metadata": {},
   "outputs": [
    {
     "name": "stdout",
     "output_type": "stream",
     "text": [
      "apdist\n",
      "Running optimization for trial DLS_pdipoint1\n",
      "### Replicate 0 ###\n",
      "starting initial samples\n",
      "batch distance metric:  apdist\n",
      "starting batch 1\n",
      "Optimized acqf in 0.9423158168792725 s\n",
      "batch distance metric:  apdist\n",
      "starting batch 2\n",
      "Optimized acqf in 6.65263295173645 s\n",
      "batch distance metric:  apdist\n",
      "starting batch 3\n",
      "Optimized acqf in 20.84101366996765 s\n",
      "batch distance metric:  apdist\n",
      "starting batch 4\n",
      "Optimized acqf in 50.58922863006592 s\n",
      "batch distance metric:  apdist\n",
      "### Replicate 1 ###\n",
      "starting initial samples\n",
      "batch distance metric:  apdist\n",
      "starting batch 1\n",
      "Optimized acqf in 0.405498743057251 s\n",
      "batch distance metric:  apdist\n",
      "starting batch 2\n",
      "Optimized acqf in 4.688946008682251 s\n",
      "batch distance metric:  apdist\n",
      "starting batch 3\n",
      "Optimized acqf in 50.127326011657715 s\n",
      "batch distance metric:  apdist\n",
      "starting batch 4\n",
      "Optimized acqf in 7.013935089111328 s\n",
      "batch distance metric:  apdist\n",
      "### Replicate 2 ###\n",
      "starting initial samples\n",
      "batch distance metric:  apdist\n",
      "starting batch 1\n",
      "Optimized acqf in 0.5940272808074951 s\n",
      "batch distance metric:  apdist\n",
      "starting batch 2\n",
      "Optimized acqf in 0.9254577159881592 s\n",
      "batch distance metric:  apdist\n",
      "starting batch 3\n",
      "Optimized acqf in 1.9529211521148682 s\n",
      "batch distance metric:  apdist\n",
      "starting batch 4\n",
      "Optimized acqf in 49.5181360244751 s\n",
      "batch distance metric:  apdist\n"
     ]
    }
   ],
   "source": [
    "budget = 20\n",
    "\n",
    "for trial_name, params in trials_3.items():\n",
    "    batch_size = params['batch_size']\n",
    "    amplitude_weight = params['amplitude_weight']\n",
    "    m_samples = params['m_samples']\n",
    "    lower_bounds = params['lower_bounds']\n",
    "    upper_bounds = params['upper_bounds']\n",
    "    noise_level = params['noise_level']\n",
    "    characterization = params['characterization']\n",
    "    distance = params.get('distance', None)\n",
    "    pdi_weight = params.get('pdi_weight', None)\n",
    "\n",
    "    target_d = target_r_nm*2\n",
    "\n",
    "    if trial_name in ['baseline', 'noise_1', 'as_run_now', 'DLS']:\n",
    "        continue\n",
    "\n",
    "    print(distance)\n",
    "\n",
    "    execute.run_grouped_trials(target_I, q_grid, batch_size, amplitude_weight, m_samples, lower_bounds, upper_bounds, trial_name, noise_level, budget, target_d, target_pdi, characterization = characterization, distance_metric = distance, pdi_weight = pdi_weight)"
   ]
  }
 ],
 "metadata": {
  "kernelspec": {
   "display_name": "Python 3 (ipykernel)",
   "language": "python",
   "name": "python3"
  },
  "language_info": {
   "codemirror_mode": {
    "name": "ipython",
    "version": 3
   },
   "file_extension": ".py",
   "mimetype": "text/x-python",
   "name": "python",
   "nbconvert_exporter": "python",
   "pygments_lexer": "ipython3",
   "version": "3.12.8"
  }
 },
 "nbformat": 4,
 "nbformat_minor": 5
}
